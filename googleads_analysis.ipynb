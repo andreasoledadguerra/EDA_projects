{
 "cells": [
  {
   "cell_type": "markdown",
   "metadata": {},
   "source": [
    "# Elections Ad Spending Analysis with Python in Argentina (2023)"
   ]
  },
  {
   "cell_type": "markdown",
   "metadata": {},
   "source": [
    "#### We collected data from Google ads about how much money was spent in formats like text, videos or image by political parties during Argentina elections 2023. In this article, we perform elections ad spending analysis - EDA - using Python (and how it impacted the voting patterns)."
   ]
  },
  {
   "cell_type": "markdown",
   "metadata": {
    "vscode": {
     "languageId": "plaintext"
    }
   },
   "source": [
    "## Data Collection\n",
    "\n",
    "We extract the dataset from Ads Transparency Center which format is in Google Sheet. We transform this and download it in a .csv format. We have the variables: Ad_Type, Regions, Advertiser_ID, Advertiser_Name, Ad_Campaings_List, Date_Range_Start, Date_Range_End, Num_of_Days, Impressions, Spend_USD, First_Served_Timestamp, Last_Served_Times, Age_Targeting, Gender_Targeting, Geo_Targeting_Included, Geo_Targeting_Excluded, Spend_Range_Min_USD, Spend_Range_Max_USD, Spend_Range_Min_ARS and Spend_Range_Max_ARS. \n",
    "\n",
    "We import the library pandas for dataframe manipulation."
   ]
  },
  {
   "cell_type": "code",
   "execution_count": null,
   "metadata": {},
   "outputs": [],
   "source": [
    "import pandas as pd\n",
    "\n",
    "df_ads = pd.read_csv(\"/home/andy/Descargas/ds_googleads.csv\") #cambiar esto, quiero que me aparezca\n",
    "                                                                #sólo el nombre de la carpeta\n",
    "print(\"Shape of dataset: \", df_ads.shape)\n",
    "\n",
    "#show the first 5 rows\n",
    "df_ads.head()"
   ]
  },
  {
   "cell_type": "markdown",
   "metadata": {},
   "source": [
    "### Data Cleaning & Data Preprocessing\n",
    "\n"
   ]
  },
  {
   "cell_type": "markdown",
   "metadata": {},
   "source": [
    "Let's drop NaN values from the dataframe like Ad_Campaigns_List, Age_Trageting, Gender_Targeting,  Geo_Targeting_Excluded."
   ]
  },
  {
   "cell_type": "code",
   "execution_count": null,
   "metadata": {},
   "outputs": [],
   "source": [
    "print(type(df_ads))  # This should print <class 'pandas.core.frame.DataFrame'>\n",
    "print(df_ads.head())  # Print the first few rows to ensure it's a valid DataFrame\n"
   ]
  },
  {
   "cell_type": "code",
   "execution_count": null,
   "metadata": {},
   "outputs": [],
   "source": [
    "df_ads = df_ads.dropna(axis=1)\n",
    "#df_ads = df_ads.dropna(subset=['Ad_Campaigns_List', 'Age_Trageting', 'Gender_Targeting',  'Geo_Targeting_Excluded'])\n",
    "print(\"Shape of dataset after cleaning: \", df_ads.shape)\n",
    "df_ads.head(5)"
   ]
  },
  {
   "cell_type": "code",
   "execution_count": null,
   "metadata": {},
   "outputs": [],
   "source": [
    "print(type(df_ads.describe()))"
   ]
  },
  {
   "cell_type": "markdown",
   "metadata": {},
   "source": [
    "Now, using the method .describe() let's see summary statistics of relevant columns, for example: Spend_Range_Max_ARS:"
   ]
  },
  {
   "cell_type": "code",
   "execution_count": null,
   "metadata": {},
   "outputs": [],
   "source": [
    "print(type(df_ads['Spend_Range_Max_ARS']))"
   ]
  },
  {
   "cell_type": "markdown",
   "metadata": {},
   "source": [
    "We convert the data type:"
   ]
  },
  {
   "cell_type": "code",
   "execution_count": null,
   "metadata": {},
   "outputs": [],
   "source": [
    "# Convert the 'Spend_Range_Max_ARS' column to float\n",
    "df_ads['Spend_Range_Max_ARS'] = df_ads['Spend_Range_Max_ARS'].astype(float)\n",
    "\n",
    "# Display the updated data types\n",
    "print(df_ads.dtypes)\n"
   ]
  },
  {
   "cell_type": "markdown",
   "metadata": {},
   "source": [
    "Given that the inner elements from column 'Spend_Range_Max_AR' has a typing error(?), we fix it in the following way: "
   ]
  },
  {
   "cell_type": "code",
   "execution_count": null,
   "metadata": {},
   "outputs": [],
   "source": [
    "# Remove the thousand separator and replace the decimal separator\n",
    "df_ads['Spend_Range_Max_ARS'] = df_ads['Spend_Range_Max_ARS'].str.replace('.', '', regex=False).str.replace(',', '.', regex=False)\n",
    "\n",
    "# Convert the column to float\n",
    "df_ads['Spend_Range_Max_ARS'] = df_ads['Spend_Range_Max_ARS'].astype(float)\n",
    "\n",
    "# Display the updated DataFrame and data types\n",
    "print(df_ads)\n",
    "print(df_ads.dtypes)\n"
   ]
  },
  {
   "cell_type": "code",
   "execution_count": null,
   "metadata": {},
   "outputs": [],
   "source": [
    "print(df_ads['Spend_Range_Max_ARS'].describe())"
   ]
  },
  {
   "cell_type": "code",
   "execution_count": null,
   "metadata": {},
   "outputs": [],
   "source": []
  }
 ],
 "metadata": {
  "kernelspec": {
   "display_name": "env",
   "language": "python",
   "name": "python3"
  },
  "language_info": {
   "codemirror_mode": {
    "name": "ipython",
    "version": 3
   },
   "file_extension": ".py",
   "mimetype": "text/x-python",
   "name": "python",
   "nbconvert_exporter": "python",
   "pygments_lexer": "ipython3",
   "version": "3.10.12"
  }
 },
 "nbformat": 4,
 "nbformat_minor": 2
}
