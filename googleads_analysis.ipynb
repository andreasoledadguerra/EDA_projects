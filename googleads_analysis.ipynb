{
 "cells": [
  {
   "cell_type": "markdown",
   "metadata": {},
   "source": [
    "# Elections Ad Spending Analysis in Argentina using Python(2023)"
   ]
  },
  {
   "cell_type": "markdown",
   "metadata": {},
   "source": [
    "#### We collected data from Google ads about how much money was spent in formats like text, videos or image by political parties during Argentina elections 2023. In this article, we perform elections ad spending analysis - EDA - using Python (and how it impacted the voting patterns)."
   ]
  },
  {
   "cell_type": "markdown",
   "metadata": {
    "vscode": {
     "languageId": "plaintext"
    }
   },
   "source": [
    "## Data Collection\n",
    "\n",
    "We extract the dataset from Ads Transparency Center which format is in Google Sheet. We transform this and download it in a .csv format. \n",
    "\n",
    "We import the library pandas for dataframe manipulation."
   ]
  },
  {
   "cell_type": "code",
   "execution_count": null,
   "metadata": {},
   "outputs": [],
   "source": [
    "import pandas as pd\n",
    "import matplotlib.pyplot as plt\n"
   ]
  },
  {
   "cell_type": "code",
   "execution_count": null,
   "metadata": {},
   "outputs": [],
   "source": [
    "df_ads = pd.read_csv(\"/home/andy/Descargas/ds_googleads.csv\") #cambiar esto, quiero que me aparezca\n",
    "                                                                #sólo el nombre de la carpeta\n",
    "print(\"Shape of dataset: \", df_ads.shape)\n"
   ]
  },
  {
   "cell_type": "code",
   "execution_count": null,
   "metadata": {},
   "outputs": [],
   "source": [
    "# Let's see the column names\n",
    "df_ads.keys()"
   ]
  },
  {
   "cell_type": "code",
   "execution_count": null,
   "metadata": {},
   "outputs": [],
   "source": [
    "# Let's check it out, for example, the first URL \n",
    "df_ads['Ad_URL'][0]"
   ]
  },
  {
   "cell_type": "code",
   "execution_count": null,
   "metadata": {},
   "outputs": [],
   "source": [
    "len(df_ads['Advertiser_ID'].unique())"
   ]
  },
  {
   "cell_type": "code",
   "execution_count": null,
   "metadata": {},
   "outputs": [],
   "source": [
    "fr = 'AR14823408713892626433'\n",
    "df_ads[df_ads['Advertiser_ID'] == fr]"
   ]
  },
  {
   "cell_type": "code",
   "execution_count": null,
   "metadata": {},
   "outputs": [],
   "source": [
    "gc = 'AR17825122736721100801'\n",
    "df_ads[df_ads['Advertiser_ID'] == gc]"
   ]
  },
  {
   "cell_type": "code",
   "execution_count": null,
   "metadata": {},
   "outputs": [],
   "source": [
    "df_ads.drop(['Ad_ID'],axis=1)"
   ]
  },
  {
   "cell_type": "code",
   "execution_count": null,
   "metadata": {},
   "outputs": [],
   "source": [
    "#show the first 5 rows\n",
    "df_ads.head()\n",
    "\n",
    "#levantar datos datetime,\n",
    "#pd.to_datetime()"
   ]
  },
  {
   "cell_type": "markdown",
   "metadata": {},
   "source": [
    "### Data Cleaning & Data Preprocessing"
   ]
  },
  {
   "cell_type": "code",
   "execution_count": null,
   "metadata": {},
   "outputs": [],
   "source": [
    "#Let's drop NaN values from the dataframe like \n",
    "#Ad_Campaigns_List, Age_Trageting, Gender_Targeting,  Geo_Targeting_Excluded.\n",
    "\n",
    "display(type(df_ads))  # This should print <class 'pandas.core.frame.DataFrame'>\n",
    "display(df_ads.head())  # Print the first few rows to ensure it's a valid DataFrame"
   ]
  },
  {
   "cell_type": "code",
   "execution_count": null,
   "metadata": {},
   "outputs": [],
   "source": [
    "# Let's see summary statistics of relevant columns, for example: Spend_Range_Max_ARS:\n",
    "print(df_ads['Spend_Range_Max_ARS'])"
   ]
  },
  {
   "cell_type": "code",
   "execution_count": null,
   "metadata": {},
   "outputs": [],
   "source": [
    "# We convert the data type:'Spend_Range_Max_ARS'  to float\n",
    "df_ads['Spend_Range_Max_ARS'] = df_ads['Spend_Range_Max_ARS'].astype(float)\n",
    "\n",
    "# Display the updated data types\n",
    "print(df_ads.dtypes)\n"
   ]
  },
  {
   "cell_type": "markdown",
   "metadata": {},
   "source": [
    "Given that the inner elements from column 'Spend_Range_Max_AR' has a typing error(?), we fix it in the following way: "
   ]
  },
  {
   "cell_type": "code",
   "execution_count": null,
   "metadata": {},
   "outputs": [],
   "source": [
    "# Remove the thousand separator and replace the decimal separator\n",
    "df_ads['Spend_Range_Max_ARS'] = df_ads['Spend_Range_Max_ARS'].str.replace('.', '', regex=False).str.replace(',', '.', regex=False)\n",
    "\n",
    "# Convert the column to float\n",
    "df_ads['Spend_Range_Max_ARS'] = df_ads['Spend_Range_Max_ARS'].astype(float)\n",
    "\n",
    "# Display the updated DataFrame and data types\n",
    "display(df_ads)\n",
    "display(df_ads.dtypes)\n"
   ]
  },
  {
   "cell_type": "code",
   "execution_count": null,
   "metadata": {},
   "outputs": [],
   "source": [
    "# \n",
    "display(df_ads['Spend_Range_Max_ARS'].describe())"
   ]
  },
  {
   "cell_type": "code",
   "execution_count": null,
   "metadata": {},
   "outputs": [],
   "source": [
    "df_ads['Spend_Range_Max_ARS'].hist(bins=100)\n",
    "\n",
    "plt.xlim(0, 100000)"
   ]
  },
  {
   "cell_type": "code",
   "execution_count": null,
   "metadata": {},
   "outputs": [],
   "source": [
    "#We calculate the mode (most frequent value) of the column 'Spend_Range_Max_ARS':\n",
    "df_ads['Spend_Range_Max_ARS'].value_counts()"
   ]
  },
  {
   "cell_type": "markdown",
   "metadata": {},
   "source": [
    "### Ad Spend Analysis"
   ]
  },
  {
   "cell_type": "code",
   "execution_count": null,
   "metadata": {},
   "outputs": [],
   "source": [
    "# Get unique ID types\n",
    "unique_ids = df_ads['Ad_ID'].unique()\n",
    "display(\"Unique Ad ID:\", unique_ids)"
   ]
  },
  {
   "cell_type": "code",
   "execution_count": null,
   "metadata": {},
   "outputs": [],
   "source": [
    "# Initialize an empty list to compile unique ID types\n",
    "compiled_unique_ids = []\n",
    "\n",
    "# Loop through unique IDs\n",
    "for ad_id in unique_ids:\n",
    "    # Append each unique ID to the list\n",
    "    compiled_unique_ids.append(ad_id)\n",
    "    # display the ID type\n",
    "    display(f\"Compiled Ad ID: {ad_id}\")\n",
    "    "
   ]
  },
  {
   "cell_type": "code",
   "execution_count": null,
   "metadata": {},
   "outputs": [],
   "source": [
    "# We don the same for the column 'Spend_Range_Max_ARS'\n",
    "most_spend = df_ads['Spend_Range_Max_ARS']\n",
    "display(\"Most spend:\", most_spend)"
   ]
  },
  {
   "cell_type": "code",
   "execution_count": null,
   "metadata": {},
   "outputs": [],
   "source": [
    "# Initialize an empty list to compile the values of 'Spend_Range_Max_ARS'\n",
    "compiled_most_spend= []\n",
    "\n",
    "# Loop through unique IDs\n",
    "for spend_id in most_spend:\n",
    "# Append each value to the list\n",
    "    compiled_most_spend.append(spend_id)\n",
    "# display the list\n",
    "    display(f\"Compiled : {spend_id}\")\n",
    "    "
   ]
  },
  {
   "cell_type": "code",
   "execution_count": 19,
   "metadata": {},
   "outputs": [
    {
     "data": {
      "image/png": "[encoded data removed]",
      "text/plain": [
       "<Figure size 640x480 with 1 Axes>"
      ]
     },
     "metadata": {},
     "output_type": "display_data"
    }
   ],
   "source": [
    "# Get counts of each ID type\n",
    "id_counts = df_ads['Spend_Range_Max_ARS'].value_counts()\n",
    "\n",
    "# Create a bar plot\n",
    "id_counts.plot(kind='bar')\n",
    "\n",
    "# Add titles and labels\n",
    "plt.title('Count of who payed most')\n",
    "plt.xlabel('Ad ID')\n",
    "plt.ylabel('Spend_Range_Max_ARS')\n",
    "\n",
    "# Show the plot\n",
    "plt.show()\n"
   ]
  }
 ],
 "metadata": {
  "kernelspec": {
   "display_name": "env",
   "language": "python",
   "name": "python3"
  },
  "language_info": {
   "codemirror_mode": {
    "name": "ipython",
    "version": 3
   },
   "file_extension": ".py",
   "mimetype": "text/x-python",
   "name": "python",
   "nbconvert_exporter": "python",
   "pygments_lexer": "ipython3",
   "version": "3.10.12"
  }
 },
 "nbformat": 4,
 "nbformat_minor": 2
}
