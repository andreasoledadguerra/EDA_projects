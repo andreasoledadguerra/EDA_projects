{
 "cells": [
  {
   "cell_type": "markdown",
   "metadata": {},
   "source": [
    "# Elections Ad Spending Analysis in Argentina using Python(2023)"
   ]
  },
  {
   "cell_type": "markdown",
   "metadata": {},
   "source": [
    "#### We collected data from Google ads about how much money was spent in formats like text, videos or image by political parties during Argentina elections 2023. In this article, we perform elections ad spending analysis - EDA - using Python (and how it impacted the voting patterns)."
   ]
  },
  {
   "cell_type": "markdown",
   "metadata": {
    "vscode": {
     "languageId": "plaintext"
    }
   },
   "source": [
    "## Data Collection\n",
    "\n",
    "We extract the dataset from Ads Transparency Center which format is in Google Sheet. We transform this and download it in a .csv format. \n",
    "\n",
    "We import the library pandas for dataframe manipulation."
   ]
  },
  {
   "cell_type": "code",
   "execution_count": 1,
   "metadata": {},
   "outputs": [],
   "source": [
    "import pandas as pd\n",
    "import matplotlib.pyplot as plt\n",
    "import matplotlib.colors as mcolor\n"
   ]
  },
  {
   "cell_type": "code",
   "execution_count": 2,
   "metadata": {},
   "outputs": [
    {
     "name": "stdout",
     "output_type": "stream",
     "text": [
      "Shape of dataset:  (5813, 22)\n"
     ]
    }
   ],
   "source": [
    "df_ads = pd.read_csv(\"/home/andy/Descargas/ds_googleads.csv\") #cambiar esto, quiero que me aparezca\n",
    "                                                                #sólo el nombre de la carpeta\n",
    "print(\"Shape of dataset: \", df_ads.shape)\n"
   ]
  },
  {
   "cell_type": "code",
   "execution_count": null,
   "metadata": {},
   "outputs": [],
   "source": [
    "# Let's see the column names\n",
    "df_ads.keys()"
   ]
  },
  {
   "cell_type": "code",
   "execution_count": null,
   "metadata": {},
   "outputs": [],
   "source": [
    "# Let's check it out, for example, the first URL \n",
    "df_ads['Ad_URL'][0]"
   ]
  },
  {
   "cell_type": "code",
   "execution_count": null,
   "metadata": {},
   "outputs": [],
   "source": [
    "len(df_ads['Advertiser_ID'].unique())"
   ]
  },
  {
   "cell_type": "code",
   "execution_count": null,
   "metadata": {},
   "outputs": [],
   "source": [
    "fr = 'AR14823408713892626433'\n",
    "df_ads[df_ads['Advertiser_ID'] == fr]"
   ]
  },
  {
   "cell_type": "code",
   "execution_count": null,
   "metadata": {},
   "outputs": [],
   "source": [
    "gc = 'AR17825122736721100801'\n",
    "df_ads[df_ads['Advertiser_ID'] == gc]                                                                                                                                                                                                                                                                                                       q"
   ]
  },
  {
   "cell_type": "code",
   "execution_count": null,
   "metadata": {},
   "outputs": [],
   "source": [
    "df_ads.drop(['Ad_ID'],axis=1)"
   ]
  },
  {
   "cell_type": "code",
   "execution_count": null,
   "metadata": {},
   "outputs": [],
   "source": [
    "#show the first 5 rows\n",
    "df_ads.head()\n",
    "\n",
    "#levantar datos datetime,\n",
    "#pd.to_datetime()"
   ]
  },
  {
   "cell_type": "markdown",
   "metadata": {},
   "source": [
    "### Data Cleaning & Data Preprocessing"
   ]
  },
  {
   "cell_type": "code",
   "execution_count": null,
   "metadata": {},
   "outputs": [],
   "source": [
    "#Let's drop NaN values from the dataframe like \n",
    "#Ad_Campaigns_List, Age_Trageting, Gender_Targeting,  Geo_Targeting_Excluded.\n",
    "\n",
    "display(type(df_ads))  # This should print <class 'pandas.core.frame.DataFrame'>\n",
    "display(df_ads.head())  # Print the first few rows to ensure it's a valid DataFrame"
   ]
  },
  {
   "cell_type": "code",
   "execution_count": null,
   "metadata": {},
   "outputs": [],
   "source": [
    "# Let's see summary statistics of relevant columns, for example: Spend_Range_Max_ARS:\n",
    "print(df_ads['Spend_Range_Max_ARS'])"
   ]
  },
  {
   "cell_type": "code",
   "execution_count": null,
   "metadata": {},
   "outputs": [],
   "source": [
    "# We convert the data type:'Spend_Range_Max_ARS'  to float\n",
    "df_ads['Spend_Range_Max_ARS'] = df_ads['Spend_Range_Max_ARS'].astype(float)\n",
    "\n",
    "# Display the updated data types\n",
    "print(df_ads.dtypes)\n"
   ]
  },
  {
   "cell_type": "markdown",
   "metadata": {},
   "source": [
    "Given that the inner elements from column 'Spend_Range_Max_AR' has a typing error(?), we fix it in the following way: "
   ]
  },
  {
   "cell_type": "code",
   "execution_count": null,
   "metadata": {},
   "outputs": [],
   "source": [
    "# Remove the thousand separator and replace the decimal separator\n",
    "df_ads['Spend_Range_Max_ARS'] = df_ads['Spend_Range_Max_ARS'].str.replace('.', '', regex=False).str.replace(',', '.', regex=False)\n",
    "\n",
    "# Convert the column to float\n",
    "df_ads['Spend_Range_Max_ARS'] = df_ads['Spend_Range_Max_ARS'].astype(float)\n",
    "\n",
    "# Display the updated DataFrame and data types\n",
    "display(df_ads)\n",
    "display(df_ads.dtypes)\n"
   ]
  },
  {
   "cell_type": "code",
   "execution_count": 10,
   "metadata": {},
   "outputs": [
    {
     "data": {
      "text/plain": [
       "count          5813\n",
       "unique           24\n",
       "top       15.000,00\n",
       "freq           4730\n",
       "Name: Spend_Range_Max_ARS, dtype: object"
      ]
     },
     "metadata": {},
     "output_type": "display_data"
    }
   ],
   "source": [
    "# \n",
    "display(df_ads['Spend_Range_Max_ARS'].describe())"
   ]
  },
  {
   "cell_type": "code",
   "execution_count": null,
   "metadata": {},
   "outputs": [],
   "source": [
    "df_ads['Spend_Range_Max_ARS'].hist(bins=100)\n",
    "\n",
    "plt.xlim(0, 100000)"
   ]
  },
  {
   "cell_type": "code",
   "execution_count": 11,
   "metadata": {},
   "outputs": [
    {
     "data": {
      "text/plain": [
       "Spend_Range_Max_ARS\n",
       "15.000,00       4730\n",
       "30.000,00        400\n",
       "45.000,00        166\n",
       "60.000,00        112\n",
       "75.000,00         82\n",
       "200.000,00        43\n",
       "250.000,00        39\n",
       "120.000,00        38\n",
       "90.000,00         35\n",
       "105.000,00        33\n",
       "135.000,00        29\n",
       "150.000,00        21\n",
       "350.000,00        17\n",
       "300.000,00        14\n",
       "450.000,00         9\n",
       "400.000,00         9\n",
       "700.000,00         8\n",
       "500.000,00         6\n",
       "900.000,00         6\n",
       "600.000,00         5\n",
       "1.500.000,00       4\n",
       "800.000,00         3\n",
       "3.000.000,00       2\n",
       "1.000.000,00       2\n",
       "Name: count, dtype: int64"
      ]
     },
     "execution_count": 11,
     "metadata": {},
     "output_type": "execute_result"
    }
   ],
   "source": [
    "#We calculate the mode (most frequent value) of the column 'Spend_Range_Max_ARS':\n",
    "df_ads['Spend_Range_Max_ARS'].value_counts()"
   ]
  },
  {
   "cell_type": "markdown",
   "metadata": {},
   "source": [
    "### Ad Spend Analysis"
   ]
  },
  {
   "cell_type": "code",
   "execution_count": 3,
   "metadata": {},
   "outputs": [
    {
     "data": {
      "text/plain": [
       "'Unique Ad ID:'"
      ]
     },
     "metadata": {},
     "output_type": "display_data"
    },
    {
     "data": {
      "text/plain": [
       "array(['CR10079170796300795905', 'CR07383048713104523265',\n",
       "       'CR08190079252775829505', ..., 'CR14634596316563374081',\n",
       "       'CR03606406729039872001', 'CR12197502405318803457'], dtype=object)"
      ]
     },
     "metadata": {},
     "output_type": "display_data"
    }
   ],
   "source": [
    "# Get unique ID types\n",
    "unique_ids = df_ads['Ad_ID'].unique()\n",
    "display(\"Unique Ad ID:\", unique_ids)"
   ]
  },
  {
   "cell_type": "code",
   "execution_count": 9,
   "metadata": {},
   "outputs": [
    {
     "data": {
      "image/png": "[encoded data removed]",
      "text/plain": [
       "<Figure size 640x480 with 1 Axes>"
      ]
     },
     "metadata": {},
     "output_type": "display_data"
    }
   ],
   "source": [
    "# Extracting the columns\n",
    "x = unique_ids\n",
    "y = df_ads['Spend_Range_Max_ARS'] \n",
    "\n",
    "# Plotting the bar chart\n",
    "plt.bar(x, y, color='orchid')  \n",
    "\n",
    "# Customizing the plot\n",
    "plt.xlabel('ID Spender')\n",
    "plt.ylabel('Values')\n",
    "plt.title('Bar Plot of who has been spended more')\n",
    "\n",
    "# Step 5: Show the plot\n",
    "plt.show()\n"
   ]
  },
  {
   "cell_type": "code",
   "execution_count": null,
   "metadata": {},
   "outputs": [],
   "source": []
  }
 ],
 "metadata": {
  "kernelspec": {
   "display_name": "env",
   "language": "python",
   "name": "python3"
  },
  "language_info": {
   "codemirror_mode": {
    "name": "ipython",
    "version": 3
   },
   "file_extension": ".py",
   "mimetype": "text/x-python",
   "name": "python",
   "nbconvert_exporter": "python",
   "pygments_lexer": "ipython3",
   "version": "3.10.12"
  }
 },
 "nbformat": 4,
 "nbformat_minor": 2
}
